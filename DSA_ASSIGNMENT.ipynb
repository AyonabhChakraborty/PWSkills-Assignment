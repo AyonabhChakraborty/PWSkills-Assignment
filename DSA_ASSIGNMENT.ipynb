{
 "cells": [
  {
   "cell_type": "code",
   "execution_count": 1,
   "id": "2cc1fcf4-8236-48bb-a440-86a984ec54db",
   "metadata": {},
   "outputs": [
    {
     "name": "stdout",
     "output_type": "stream",
     "text": [
      "5 -> 4 -> 3 -> 2 -> 1 -> None\n"
     ]
    }
   ],
   "source": [
    "class ListNode:\n",
    "    def __init__(self, val=0, next=None):\n",
    "        self.val = val\n",
    "        self.next = next\n",
    "\n",
    "def reverse_linked_list(head):\n",
    "    prev = None\n",
    "    current = head\n",
    "    while current:\n",
    "        next_node = current.next\n",
    "        current.next = prev\n",
    "        prev = current\n",
    "        current = next_node\n",
    "    return prev\n",
    "\n",
    "# Example usage:\n",
    "# Create a linked list: 1 -> 2 -> 3 -> 4 -> 5\n",
    "head = ListNode(1)\n",
    "head.next = ListNode(2)\n",
    "head.next.next = ListNode(3)\n",
    "head.next.next.next = ListNode(4)\n",
    "head.next.next.next.next = ListNode(5)\n",
    "\n",
    "# Reverse the linked list\n",
    "reversed_head = reverse_linked_list(head)\n",
    "\n",
    "# Display the reversed linked list\n",
    "while reversed_head:\n",
    "    print(reversed_head.val, end=\" -> \")\n",
    "    reversed_head = reversed_head.next\n",
    "print(\"None\")\n"
   ]
  },
  {
   "cell_type": "code",
   "execution_count": 2,
   "id": "d0086fa9-a020-44ab-8e12-62f0f1433462",
   "metadata": {},
   "outputs": [
    {
     "name": "stdout",
     "output_type": "stream",
     "text": [
      "1 -> 2 -> 3 -> 4 -> 5 -> 6 -> None\n"
     ]
    }
   ],
   "source": [
    "def merge_two_lists(l1, l2):\n",
    "    dummy = ListNode(-1)\n",
    "    current = dummy\n",
    "    while l1 and l2:\n",
    "        if l1.val < l2.val:\n",
    "            current.next = l1\n",
    "            l1 = l1.next\n",
    "        else:\n",
    "            current.next = l2\n",
    "            l2 = l2.next\n",
    "        current = current.next\n",
    "    current.next = l1 if l1 else l2\n",
    "    return dummy.next\n",
    "\n",
    "# Example usage:\n",
    "# Create two sorted linked lists\n",
    "list1 = ListNode(1)\n",
    "list1.next = ListNode(3)\n",
    "list1.next.next = ListNode(5)\n",
    "\n",
    "list2 = ListNode(2)\n",
    "list2.next = ListNode(4)\n",
    "list2.next.next = ListNode(6)\n",
    "\n",
    "# Merge the two lists\n",
    "merged_list = merge_two_lists(list1, list2)\n",
    "\n",
    "# Display the merged list\n",
    "while merged_list:\n",
    "    print(merged_list.val, end=\" -> \")\n",
    "    merged_list = merged_list.next\n",
    "print(\"None\")\n"
   ]
  },
  {
   "cell_type": "code",
   "execution_count": 3,
   "id": "e03f597d-ec24-470e-a876-b90cd7b2ecc4",
   "metadata": {},
   "outputs": [
    {
     "name": "stdout",
     "output_type": "stream",
     "text": [
      "1 -> 2 -> 3 -> 5 -> None\n"
     ]
    }
   ],
   "source": [
    "def remove_nth_from_end(head, n):\n",
    "    dummy = ListNode(0)\n",
    "    dummy.next = head\n",
    "    first = dummy\n",
    "    second = dummy\n",
    "    for _ in range(n + 1):\n",
    "        first = first.next\n",
    "    while first:\n",
    "        first = first.next\n",
    "        second = second.next\n",
    "    second.next = second.next.next\n",
    "    return dummy.next\n",
    "\n",
    "head = ListNode(1)\n",
    "head.next = ListNode(2)\n",
    "head.next.next = ListNode(3)\n",
    "head.next.next.next = ListNode(4)\n",
    "head.next.next.next.next = ListNode(5)\n",
    "\n",
    "head = remove_nth_from_end(head, 2)\n",
    "\n",
    "while head:\n",
    "    print(head.val, end=\" -> \")\n",
    "    head = head.next\n",
    "print(\"None\")\n"
   ]
  },
  {
   "cell_type": "code",
   "execution_count": 4,
   "id": "ec121c0c-9f84-436e-bca0-375ed09354fc",
   "metadata": {},
   "outputs": [
    {
     "name": "stdout",
     "output_type": "stream",
     "text": [
      "Node with value: 3\n"
     ]
    }
   ],
   "source": [
    "def get_intersection_node(headA, headB):\n",
    "    if not headA or not headB:\n",
    "        return None\n",
    "    pa = headA\n",
    "    pb = headB\n",
    "    while pa != pb:\n",
    "        pa = headB if pa is None else pa.next\n",
    "        pb = headA if pb is None else pb.next\n",
    "    return pa\n",
    "\n",
    "\n",
    "list1 = ListNode(1)\n",
    "list1.next = ListNode(2)\n",
    "list1.next.next = ListNode(3)\n",
    "\n",
    "list2 = ListNode(4)\n",
    "list2.next = list1.next.next\n",
    "\n",
    "\n",
    "intersection_node = get_intersection_node(list1, list2)\n",
    "\n",
    "\n",
    "if intersection_node:\n",
    "    print(\"Node with value:\", intersection_node.val)\n",
    "else:\n",
    "    print(\"No intersection point\")\n"
   ]
  },
  {
   "cell_type": "code",
   "execution_count": 6,
   "id": "2c669708-c301-42bd-b582-cc7419a955ce",
   "metadata": {},
   "outputs": [
    {
     "name": "stdout",
     "output_type": "stream",
     "text": [
      "1 -> 2 -> 3 -> None\n"
     ]
    }
   ],
   "source": [
    "def delete_duplicates(head):\n",
    "    current = head\n",
    "    while current and current.next:\n",
    "        if current.val == current.next.val:\n",
    "            current.next = current.next.next\n",
    "        else:\n",
    "            current = current.next\n",
    "    return head\n",
    "\n",
    "head = ListNode(1)\n",
    "head.next = ListNode(1)\n",
    "head.next.next = ListNode(2)\n",
    "head.next.next.next = ListNode(3)\n",
    "head.next.next.next.next = ListNode(3)\n",
    "\n",
    "\n",
    "head = delete_duplicates(head)\n",
    "\n",
    "\n",
    "while head:\n",
    "    print(head.val, end=\" -> \")\n",
    "    head = head.next\n",
    "print(\"None\")\n"
   ]
  },
  {
   "cell_type": "code",
   "execution_count": 7,
   "id": "2b89a577-aa6c-4ee2-850b-52c8cc281999",
   "metadata": {},
   "outputs": [
    {
     "name": "stdout",
     "output_type": "stream",
     "text": [
      "7 -> 0 -> 8 -> None\n"
     ]
    }
   ],
   "source": [
    "def add_two_numbers(l1, l2):\n",
    "    dummy = ListNode(0)\n",
    "    current = dummy\n",
    "    carry = 0\n",
    "    while l1 or l2 or carry:\n",
    "        sum_val = (l1.val if l1 else 0) + (l2.val if l2 else 0) + carry\n",
    "        carry = sum_val // 10\n",
    "        current.next = ListNode(sum_val % 10)\n",
    "        current = current.next\n",
    "        l1 = l1.next if l1 else None\n",
    "        l2 = l2.next if l2 else None\n",
    "    return dummy.next\n",
    "\n",
    "\n",
    "num1 = ListNode(2)\n",
    "num1.next = ListNode(4)\n",
    "num1.next.next = ListNode(3)\n",
    "\n",
    "num2 = ListNode(5)\n",
    "num2.next = ListNode(6)\n",
    "num2.next.next = ListNode(4)\n",
    "\n",
    "\n",
    "result = add_two_numbers(num1, num2)\n",
    "\n",
    "\n",
    "while result:\n",
    "    print(result.val, end=\" -> \")\n",
    "    result = result.next\n",
    "print(\"None\")\n"
   ]
  },
  {
   "cell_type": "code",
   "execution_count": 8,
   "id": "3dd8c658-08ea-4c0f-8e15-1707357071ef",
   "metadata": {},
   "outputs": [
    {
     "name": "stdout",
     "output_type": "stream",
     "text": [
      "2 -> 1 -> 4 -> 3 -> None\n"
     ]
    }
   ],
   "source": [
    "def swap_pairs(head):\n",
    "    dummy = ListNode(0)\n",
    "    dummy.next = head\n",
    "    current = dummy\n",
    "    while current.next and current.next.next:\n",
    "        first_node = current.next\n",
    "        second_node = current.next.next\n",
    "        current.next = second_node\n",
    "        first_node.next = second_node.next\n",
    "        second_node.next = first_node\n",
    "        current = first_node\n",
    "    return dummy.next\n",
    "\n",
    "\n",
    "head = ListNode(1)\n",
    "head.next = ListNode(2)\n",
    "head.next.next = ListNode(3)\n",
    "head.next.next.next = ListNode(4)\n",
    "\n",
    "\n",
    "head = swap_pairs(head)\n",
    "\n",
    "\n",
    "while head:\n",
    "    print(head.val, end=\" -> \")\n",
    "    head = head.next\n",
    "print(\"None\")\n"
   ]
  },
  {
   "cell_type": "code",
   "execution_count": 9,
   "id": "3783983c-efe8-4236-a197-6f5a226946b3",
   "metadata": {},
   "outputs": [
    {
     "name": "stdout",
     "output_type": "stream",
     "text": [
      "3 -> 2 -> 1 -> None\n"
     ]
    }
   ],
   "source": [
    "def reverse_k_group(head, k):\n",
    "    def reverse(head, k):\n",
    "        prev = None\n",
    "        current = head\n",
    "        while k > 0:\n",
    "            next_node = current.next\n",
    "            current.next = prev\n",
    "            prev = current\n",
    "            current = next_node\n",
    "            k -= 1\n",
    "        return prev, current\n",
    "    \n",
    "    dummy = ListNode(0)\n",
    "    dummy.next = head\n",
    "    prev_group_end = dummy\n",
    "    while True:\n",
    "        count = 0\n",
    "        temp = prev_group_end.next\n",
    "        while temp:\n",
    "            count += 1\n",
    "            temp = temp.next\n",
    "        if count < k:\n",
    "            break\n",
    "        prev, next_group_start = reverse(prev_group_end.next, k)\n",
    "        prev_group_end.next = prev\n",
    "        prev_group_end = next_group_start\n",
    "    return dummy.next\n",
    "\n",
    "\n",
    "head = ListNode(1)\n",
    "head.next = ListNode(2)\n",
    "head.next.next = ListNode(3)\n",
    "head.next.next.next = ListNode(4)\n",
    "head.next.next.next.next = ListNode(5)\n",
    "\n",
    "\n",
    "head = reverse_k_group(head, 3)\n",
    "\n",
    "\n",
    "while head:\n",
    "    print(head.val, end=\" -> \")\n",
    "    head = head.next\n",
    "print(\"None\")\n"
   ]
  },
  {
   "cell_type": "code",
   "execution_count": 10,
   "id": "d3af0cdd-0128-4b13-8fa4-d583f79bbd2f",
   "metadata": {},
   "outputs": [
    {
     "name": "stdout",
     "output_type": "stream",
     "text": [
      "True\n",
      "False\n"
     ]
    }
   ],
   "source": [
    "def is_palindrome(head):\n",
    "    if not head:\n",
    "        return True\n",
    "\n",
    "    slow = head\n",
    "    fast = head\n",
    "    while fast.next and fast.next.next:\n",
    "        slow = slow.next\n",
    "        fast = fast.next.next\n",
    "    \n",
    "\n",
    "    second_half_head = reverse_linked_list(slow.next)\n",
    "    \n",
    "\n",
    "    first_half = head\n",
    "    second_half = second_half_head\n",
    "    while second_half:\n",
    "        if first_half.val != second_half.val:\n",
    "            return False\n",
    "        first_half = first_half.next\n",
    "        second_half = second_half.next\n",
    "    \n",
    "  \n",
    "    reverse_linked_list(second_half_head)\n",
    "    \n",
    "    return True\n",
    "\n",
    "\n",
    "palindrome_list = ListNode(1)\n",
    "palindrome_list.next = ListNode(2)\n",
    "palindrome_list.next.next = ListNode(3)\n",
    "palindrome_list.next.next.next = ListNode(2)\n",
    "palindrome_list.next.next.next.next = ListNode(1)\n",
    "\n",
    "print(is_palindrome(palindrome_list))  \n",
    "non_palindrome_list = ListNode(1)\n",
    "non_palindrome_list.next = ListNode(2)\n",
    "non_palindrome_list.next.next = ListNode(3)\n",
    "non_palindrome_list.next.next.next = ListNode(4)\n",
    "non_palindrome_list.next.next.next.next = ListNode(5)\n",
    "\n",
    "\n",
    "print(is_palindrome(non_palindrome_list))\n"
   ]
  },
  {
   "cell_type": "code",
   "execution_count": 11,
   "id": "f13ee749-9afc-422e-9310-39d008e23146",
   "metadata": {},
   "outputs": [
    {
     "name": "stdout",
     "output_type": "stream",
     "text": [
      "2\n"
     ]
    }
   ],
   "source": [
    "def search_insert(nums, target):\n",
    "    low, high = 0, len(nums) - 1\n",
    "    while low <= high:\n",
    "        mid = (low + high) // 2\n",
    "        if nums[mid] == target:\n",
    "            return mid\n",
    "        elif nums[mid] < target:\n",
    "            low = mid + 1\n",
    "        else:\n",
    "            high = mid - 1\n",
    "    return low\n",
    "\n",
    "nums = [1, 3, 5, 6]\n",
    "target = 5\n",
    "print(search_insert(nums, target))  \n"
   ]
  },
  {
   "cell_type": "code",
   "execution_count": null,
   "id": "8b1ba040-9a7c-4ff6-9f5a-5472977b01ef",
   "metadata": {},
   "outputs": [],
   "source": []
  }
 ],
 "metadata": {
  "kernelspec": {
   "display_name": "Python 3 (ipykernel)",
   "language": "python",
   "name": "python3"
  },
  "language_info": {
   "codemirror_mode": {
    "name": "ipython",
    "version": 3
   },
   "file_extension": ".py",
   "mimetype": "text/x-python",
   "name": "python",
   "nbconvert_exporter": "python",
   "pygments_lexer": "ipython3",
   "version": "3.10.8"
  }
 },
 "nbformat": 4,
 "nbformat_minor": 5
}
