{
 "cells": [
  {
   "cell_type": "code",
   "execution_count": 7,
   "id": "57283fbc-4397-4200-8d3a-1e2cea7a1348",
   "metadata": {},
   "outputs": [
    {
     "name": "stdout",
     "output_type": "stream",
     "text": [
      "6\n"
     ]
    }
   ],
   "source": [
    "def max_occurrence(arr):\n",
    "    count = {}\n",
    "    max_count = 0\n",
    "    max_element = None\n",
    "    for num in arr:\n",
    "        if num in count:\n",
    "            count[num] += 1\n",
    "        else:\n",
    "            count[num] = 1\n",
    "        if count[num] > max_count:\n",
    "            max_count = count[num]\n",
    "            max_element = num\n",
    "    return max_element\n",
    "\n",
    "arr = [1,2,3,3,4,5,6,6,6,7,8,8,9]\n",
    "result = max_occurrence(arr)\n",
    "print(result)"
   ]
  },
  {
   "cell_type": "code",
   "execution_count": 8,
   "id": "6ac162a1-c0e4-4cf8-ad10-cbccdf197fa1",
   "metadata": {},
   "outputs": [
    {
     "name": "stdout",
     "output_type": "stream",
     "text": [
      "5\n"
     ]
    }
   ],
   "source": [
    "def find_missing_number(arr):\n",
    "    n = len(arr) + 1\n",
    "    total_sum = (n * (n + 1)) // 2\n",
    "    actual_sum = sum(arr)\n",
    "    return total_sum - actual_sum\n",
    "\n",
    "arr = [1,2,4,6,3,7,8]\n",
    "result = find_missing_number(arr)\n",
    "print(result)\n"
   ]
  },
  {
   "cell_type": "code",
   "execution_count": 9,
   "id": "28337e1a-3ee2-48f1-b236-0764f94bfd92",
   "metadata": {},
   "outputs": [
    {
     "name": "stdout",
     "output_type": "stream",
     "text": [
      "3\n"
     ]
    }
   ],
   "source": [
    "def find_odd_occurrence(arr):\n",
    "    result = 0\n",
    "    for num in arr:\n",
    "        result ^= num\n",
    "    return result\n",
    "\n",
    "arr =  [1,2,3,2,3,1,3]\n",
    "result = find_odd_occurrence(arr)\n",
    "print(result)"
   ]
  },
  {
   "cell_type": "code",
   "execution_count": 10,
   "id": "ea9e6197-eb51-4a19-b8c7-ffd2506a1c34",
   "metadata": {},
   "outputs": [
    {
     "name": "stdout",
     "output_type": "stream",
     "text": [
      "6 4\n"
     ]
    }
   ],
   "source": [
    "def find_pair_with_sum(arr, K):\n",
    "    complements = set()\n",
    "    for num in arr:\n",
    "        if num in complements:\n",
    "            return num, K - num\n",
    "        complements.add(K - num)\n",
    "    return None\n",
    "\n",
    "arr = [1,2,3,4,5,6,7]\n",
    "result1,result2 = find_pair_with_sum(arr, 10)\n",
    "print(result1,result2)\n"
   ]
  },
  {
   "cell_type": "code",
   "execution_count": 11,
   "id": "85d2075c-325a-4b33-b1a6-e222122b10b3",
   "metadata": {},
   "outputs": [
    {
     "name": "stdout",
     "output_type": "stream",
     "text": [
      "(-3, 4)\n"
     ]
    }
   ],
   "source": [
    "def closest_to_zero(arr):\n",
    "    arr.sort()\n",
    "    left, right = 0, len(arr) - 1\n",
    "    min_sum = float('inf')\n",
    "    closest_pair = None\n",
    "    while left < right:\n",
    "        current_sum = arr[left] + arr[right]\n",
    "        if abs(current_sum) < min_sum:\n",
    "            min_sum = abs(current_sum)\n",
    "            closest_pair = (arr[left], arr[right])\n",
    "        if current_sum < 0:\n",
    "            left += 1\n",
    "        elif current_sum > 0:\n",
    "            right -= 1\n",
    "        else:\n",
    "            return closest_pair\n",
    "    return closest_pair\n",
    "\n",
    "arr = [-3,-2,-1,4,5,6,7]\n",
    "result = closest_to_zero(arr)\n",
    "print(result)"
   ]
  },
  {
   "cell_type": "code",
   "execution_count": 13,
   "id": "f2035270-47d0-4578-94ed-811fca426a9d",
   "metadata": {},
   "outputs": [
    {
     "name": "stdout",
     "output_type": "stream",
     "text": [
      "1 2 7\n"
     ]
    }
   ],
   "source": [
    "def find_triplet_with_sum(arr, target):\n",
    "    arr.sort()\n",
    "    for i in range(len(arr) - 2):\n",
    "        left, right = i + 1, len(arr) - 1\n",
    "        while left < right:\n",
    "            current_sum = arr[i] + arr[left] + arr[right]\n",
    "            if current_sum == target:\n",
    "                return arr[i], arr[left], arr[right]\n",
    "            elif current_sum < target:\n",
    "                left += 1\n",
    "            else:\n",
    "                right -= 1\n",
    "    return None\n",
    "\n",
    "arr = [1, 2, 3, 4, 5, 6, 7]\n",
    "result1, result2, result3 = find_triplet_with_sum(arr, 10)\n",
    "print(result1, result2, result3)\n"
   ]
  },
  {
   "cell_type": "code",
   "execution_count": 15,
   "id": "f7745c1e-a245-488b-abc9-3f84e9b8bf48",
   "metadata": {},
   "outputs": [
    {
     "name": "stdout",
     "output_type": "stream",
     "text": [
      "6 8 10\n"
     ]
    }
   ],
   "source": [
    "def find_pythagorean_triplet(arr):\n",
    "    arr.sort()\n",
    "    n = len(arr)\n",
    "    for i in range(n - 1, 1, -1):\n",
    "        left, right = 0, i - 1\n",
    "        while left < right:\n",
    "            if arr[left] * arr[left] + arr[right] * arr[right] == arr[i] * arr[i]:\n",
    "                return arr[left], arr[right], arr[i]\n",
    "            elif arr[left] * arr[left] + arr[right] * arr[right] < arr[i] * arr[i]:\n",
    "                left += 1\n",
    "            else:\n",
    "                right -= 1\n",
    "    return None\n",
    "\n",
    "arr = [3, 4, 5, 6, 8, 10, 12, 15]\n",
    "result1, result2, result3 = find_pythagorean_triplet(arr)\n",
    "print(result1, result2, result3)\n"
   ]
  },
  {
   "cell_type": "code",
   "execution_count": 19,
   "id": "b06ddc3b-ab5b-4a22-91c5-e5c581178397",
   "metadata": {},
   "outputs": [
    {
     "name": "stdout",
     "output_type": "stream",
     "text": [
      "Majority Element: None\n"
     ]
    }
   ],
   "source": [
    "def find_majority_element(arr):\n",
    "    candidate = None\n",
    "    count = 0\n",
    "    # Finding the potential candidate for the majority element\n",
    "    for num in arr:\n",
    "        if count == 0:\n",
    "            candidate = num\n",
    "            count = 1\n",
    "        elif num == candidate:\n",
    "            count += 1\n",
    "        else:\n",
    "            count -= 1\n",
    "    \n",
    "    # Validating the candidate\n",
    "    if arr.count(candidate) > len(arr) // 2:\n",
    "        return candidate\n",
    "    else:\n",
    "        return None\n",
    "\n",
    "# Example usage:\n",
    "arr = [3, 4, 5, 6, 8, 10, 12, 15, 8, 8, 8]\n",
    "result = find_majority_element(arr)\n",
    "print(\"Majority Element:\", result)\n"
   ]
  },
  {
   "cell_type": "code",
   "execution_count": 20,
   "id": "f69efcc0-8353-4a84-a29b-e07803e8db48",
   "metadata": {},
   "outputs": [
    {
     "name": "stdout",
     "output_type": "stream",
     "text": [
      "Row with maximum zeros: 2\n"
     ]
    }
   ],
   "source": [
    "def max_zeros_row(matrix):\n",
    "    max_zeros = 0\n",
    "    max_zeros_row = -1\n",
    "    # Iterate through each row of the matrix\n",
    "    for i, row in enumerate(matrix):\n",
    "        # Count the number of zeros in the current row\n",
    "        zeros_count = row.count(0)\n",
    "        # Update max_zeros and max_zeros_row if zeros_count is greater\n",
    "        if zeros_count > max_zeros:\n",
    "            max_zeros = zeros_count\n",
    "            max_zeros_row = i\n",
    "    return max_zeros_row\n",
    "\n",
    "# Example usage:\n",
    "matrix = [\n",
    "    [1, 0, 0, 1],\n",
    "    [0, 1, 1, 1],\n",
    "    [0, 0, 1, 0]\n",
    "]\n",
    "\n",
    "result = max_zeros_row(matrix)\n",
    "print(\"Row with maximum zeros:\", result)\n"
   ]
  },
  {
   "cell_type": "code",
   "execution_count": 21,
   "id": "2ad3a712-a4e4-47b9-b306-1a0b581f0c4b",
   "metadata": {},
   "outputs": [
    {
     "name": "stdout",
     "output_type": "stream",
     "text": [
      "Sorted Array: [0, 0, 0, 1, 1, 1, 1, 2, 2, 2, 2]\n"
     ]
    }
   ],
   "source": [
    "def sort_012(arr):\n",
    "    low = 0\n",
    "    mid = 0\n",
    "    high = len(arr) - 1\n",
    "    # Traverse the array and adjust elements based on their values\n",
    "    while mid <= high:\n",
    "        if arr[mid] == 0:\n",
    "            arr[low], arr[mid] = arr[mid], arr[low]\n",
    "            low += 1\n",
    "            mid += 1\n",
    "        elif arr[mid] == 1:\n",
    "            mid += 1\n",
    "        else:\n",
    "            arr[mid], arr[high] = arr[high], arr[mid]\n",
    "            high -= 1\n",
    "    return arr\n",
    "\n",
    "# Example usage:\n",
    "arr = [2, 0, 1, 2, 1, 0, 0, 1, 2, 2, 1]\n",
    "sorted_arr = sort_012(arr)\n",
    "print(\"Sorted Array:\", sorted_arr)\n"
   ]
  },
  {
   "cell_type": "code",
   "execution_count": null,
   "id": "d487ada6-dd59-4b95-a299-b499a6d4ac40",
   "metadata": {},
   "outputs": [],
   "source": []
  }
 ],
 "metadata": {
  "kernelspec": {
   "display_name": "Python 3 (ipykernel)",
   "language": "python",
   "name": "python3"
  },
  "language_info": {
   "codemirror_mode": {
    "name": "ipython",
    "version": 3
   },
   "file_extension": ".py",
   "mimetype": "text/x-python",
   "name": "python",
   "nbconvert_exporter": "python",
   "pygments_lexer": "ipython3",
   "version": "3.10.8"
  }
 },
 "nbformat": 4,
 "nbformat_minor": 5
}
