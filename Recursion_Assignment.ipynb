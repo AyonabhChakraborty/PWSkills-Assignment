{
 "cells": [
  {
   "cell_type": "markdown",
   "id": "12e09a30-118f-461c-88c3-0eb4df35b1f7",
   "metadata": {},
   "source": [
    "The Tower of Hanoi problem is a classic example of recursion. The problem involves three rods and a number of disks of different sizes which can be slid onto any rod. The puzzle starts with the disks in a neat stack in ascending order of size on one rod, with the smallest disk at the top, thus making a conical shape.\n",
    "\n",
    "The objective of the puzzle is to move the entire stack to another rod, obeying the following simple rules:\n",
    "\n",
    "Only one disk can be moved at a time.\n",
    "Each move consists of taking the top disk from one stack and placing it onto another stack.\n",
    "No disk may be placed on top of a smaller disk."
   ]
  },
  {
   "cell_type": "raw",
   "id": "6937699c-5005-4fce-9158-0314f7550703",
   "metadata": {},
   "source": [
    "public class TowerOfHanoi {\n",
    "\n",
    "    public static void main(String[] args) {\n",
    "        int numDisks = 3; // Change this value to adjust the number of disks\n",
    "        solveTowerOfHanoi(numDisks, 'A', 'B', 'C');\n",
    "    }\n",
    "\n",
    "    public static void solveTowerOfHanoi(int numDisks, char source, char auxiliary, char destination) {\n",
    "        if (numDisks == 1) {\n",
    "            System.out.println(\"Move disk 1 from rod \" + source + \" to rod \" + destination);\n",
    "            return;\n",
    "        }\n",
    "        solveTowerOfHanoi(numDisks - 1, source, destination, auxiliary);\n",
    "        System.out.println(\"Move disk \" + numDisks + \" from rod \" + source + \" to rod \" + destination);\n",
    "        solveTowerOfHanoi(numDisks - 1, auxiliary, source, destination);\n",
    "    }\n",
    "}\n"
   ]
  },
  {
   "cell_type": "code",
   "execution_count": 1,
   "id": "ca66321b-5d3e-4aaa-af0e-1efb1f23c27c",
   "metadata": {},
   "outputs": [
    {
     "name": "stdout",
     "output_type": "stream",
     "text": [
      "3\n"
     ]
    }
   ],
   "source": [
    "def minDistance(word1, word2):\n",
    "    m, n = len(word1), len(word2)\n",
    "    dp = [[0] * (n + 1) for _ in range(m + 1)]\n",
    "\n",
    "    for i in range(m + 1):\n",
    "        for j in range(n + 1):\n",
    "            if i == 0:\n",
    "                dp[i][j] = j\n",
    "            elif j == 0:\n",
    "                dp[i][j] = i\n",
    "            elif word1[i - 1] == word2[j - 1]:\n",
    "                dp[i][j] = dp[i - 1][j - 1]\n",
    "            else:\n",
    "                dp[i][j] = 1 + min(dp[i - 1][j - 1], dp[i - 1][j], dp[i][j - 1])\n",
    "    \n",
    "    return dp[m][n]\n",
    "\n",
    "\n",
    "word1 = \"horse\"\n",
    "word2 = \"ros\"\n",
    "print(minDistance(word1, word2))  \n"
   ]
  },
  {
   "cell_type": "code",
   "execution_count": 2,
   "id": "9089b8ec-33cc-4198-b280-5bb4298ede45",
   "metadata": {},
   "outputs": [
    {
     "name": "stdout",
     "output_type": "stream",
     "text": [
      "Max value: 22\n"
     ]
    }
   ],
   "source": [
    "arr = [13, 1, -3, 22, 5]\n",
    "max_val = max(arr)\n",
    "print(\"Max value:\", max_val)  \n"
   ]
  },
  {
   "cell_type": "code",
   "execution_count": 3,
   "id": "a6c583e7-6aee-4867-ba51-5c11546647c3",
   "metadata": {},
   "outputs": [
    {
     "name": "stdout",
     "output_type": "stream",
     "text": [
      "Sum: 120\n"
     ]
    }
   ],
   "source": [
    "arr = [92, 23, 15, -20, 10]\n",
    "sum_val = sum(arr)\n",
    "print(\"Sum:\", sum_val)  \n"
   ]
  },
  {
   "cell_type": "code",
   "execution_count": 4,
   "id": "60ead09a-7d78-46e0-beb5-b61ba4336f91",
   "metadata": {},
   "outputs": [
    {
     "name": "stdout",
     "output_type": "stream",
     "text": [
      "Input1: 153\n",
      "Output1: Yes\n",
      "Input2: 134\n",
      "Output2: No\n"
     ]
    }
   ],
   "source": [
    "def isArmstrong(num):\n",
    "    original_num = num\n",
    "    num_digits = len(str(num))\n",
    "    armstrong_sum = 0\n",
    "    while num > 0:\n",
    "        digit = num % 10\n",
    "        armstrong_sum += digit ** num_digits\n",
    "        num //= 10\n",
    "    return armstrong_sum == original_num\n",
    "\n",
    "\n",
    "num1 = 153\n",
    "num2 = 134\n",
    "print(\"Input1:\", num1)\n",
    "print(\"Output1:\", \"Yes\" if isArmstrong(num1) else \"No\")  \n",
    "print(\"Input2:\", num2)\n",
    "print(\"Output2:\", \"Yes\" if isArmstrong(num2) else \"No\")  \n"
   ]
  },
  {
   "cell_type": "code",
   "execution_count": null,
   "id": "eeab12a4-c720-4f41-a869-c0614bc4a4ba",
   "metadata": {},
   "outputs": [],
   "source": []
  }
 ],
 "metadata": {
  "kernelspec": {
   "display_name": "Python 3 (ipykernel)",
   "language": "python",
   "name": "python3"
  },
  "language_info": {
   "codemirror_mode": {
    "name": "ipython",
    "version": 3
   },
   "file_extension": ".py",
   "mimetype": "text/x-python",
   "name": "python",
   "nbconvert_exporter": "python",
   "pygments_lexer": "ipython3",
   "version": "3.10.8"
  }
 },
 "nbformat": 4,
 "nbformat_minor": 5
}
