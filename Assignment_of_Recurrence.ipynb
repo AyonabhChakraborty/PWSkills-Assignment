{
 "cells": [
  {
   "cell_type": "code",
   "execution_count": null,
   "id": "c25e23b4-f14e-4f3d-bff8-221bafe583d2",
   "metadata": {},
   "outputs": [],
   "source": [
    "### Q1: Finding the value of T(2) for the recurrence relation T(n) = 3T(n-1) + 12n, given that T(0) = 5.\n",
    "\n",
    "To find the value of T(2), we can recursively apply the recurrence relation until we reach T(2). Given that T(0) = 5, we have:\n",
    "\n",
    "T(1) = 3T(0) + 12*1 = 3*5 + 12 = 15 + 12 = 27\n",
    "\n",
    "Then,\n",
    "\n",
    "T(2) = 3T(1) + 12*2 = 3*27 + 12*2 = 81 + 24 = 105\n",
    "\n",
    "So, T(2) = 105.\n",
    "\n",
    "### Q2: Solving recurrence relations using the substitution method:\n",
    "\n",
    "a. T(n) = T(n-1) + c\n",
    "\n",
    "To solve this recurrence relation, we can substitute T(n-1) with T(n-2) + c, and so on until we reach the base case.\n",
    "\n",
    "b. T(n) = 2T(n/2) + n\n",
    "\n",
    "This recurrence relation represents the time complexity of the merge sort algorithm.\n",
    "\n",
    "c. T(n) = 2T(n/2) + c\n",
    "\n",
    "This recurrence relation represents the time complexity of the binary search algorithm.\n",
    "\n",
    "d. T(n) = T(n/2) + c\n",
    "\n",
    "This recurrence relation represents the time complexity of algorithms that divide the problem size by a constant factor at each step, like binary search.\n",
    "\n",
    "### Q3: Solving recurrence relations using the recursive tree approach:\n",
    "\n",
    "a. T(n) = 2T(n-1) + 1\n",
    "\n",
    "In the recursive tree approach, we construct a tree where each level represents a recursive call, and each node represents the cost of that call. Then, we sum up the costs of all nodes to get the total cost.\n",
    "\n",
    "b. T(n) = 2T(n/2) + n\n",
    "\n"
   ]
  }
 ],
 "metadata": {
  "kernelspec": {
   "display_name": "Python 3 (ipykernel)",
   "language": "python",
   "name": "python3"
  },
  "language_info": {
   "codemirror_mode": {
    "name": "ipython",
    "version": 3
   },
   "file_extension": ".py",
   "mimetype": "text/x-python",
   "name": "python",
   "nbconvert_exporter": "python",
   "pygments_lexer": "ipython3",
   "version": "3.10.8"
  }
 },
 "nbformat": 4,
 "nbformat_minor": 5
}
